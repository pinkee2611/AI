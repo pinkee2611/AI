{
  "nbformat": 4,
  "nbformat_minor": 0,
  "metadata": {
    "colab": {
      "provenance": [],
      "mount_file_id": "18TLKH5YA3R2qyCjoVqKxwaZsBfc3oVLJ",
      "authorship_tag": "ABX9TyPnPPxdCtyqhXGvIxYm9XNK",
      "include_colab_link": true
    },
    "kernelspec": {
      "name": "python3",
      "display_name": "Python 3"
    },
    "language_info": {
      "name": "python"
    },
    "accelerator": "GPU",
    "gpuClass": "standard"
  },
  "cells": [
    {
      "cell_type": "markdown",
      "metadata": {
        "id": "view-in-github",
        "colab_type": "text"
      },
      "source": [
        "<a href=\"https://colab.research.google.com/github/pinkee2611/AI/blob/main/do_an.ipynb\" target=\"_parent\"><img src=\"https://colab.research.google.com/assets/colab-badge.svg\" alt=\"Open In Colab\"/></a>"
      ]
    },
    {
      "cell_type": "code",
      "execution_count": 1,
      "metadata": {
        "colab": {
          "base_uri": "https://localhost:8080/"
        },
        "id": "OORRzC-OnOZE",
        "outputId": "cf14df20-62d8-4894-8a1c-fc57f0375ac1"
      },
      "outputs": [
        {
          "output_type": "stream",
          "name": "stdout",
          "text": [
            "Drive already mounted at /content/drive; to attempt to forcibly remount, call drive.mount(\"/content/drive\", force_remount=True).\n"
          ]
        }
      ],
      "source": [
        "from google.colab import drive\n",
        "drive.mount('/content/drive')"
      ]
    },
    {
      "cell_type": "code",
      "source": [
        "from numpy import asarray\n",
        "from os import listdir\n",
        "from numpy import asarray,save\n",
        "from keras.utils import img_to_array,load_img\n",
        "from keras.models import load_model\n",
        "\n",
        "folder = '/content/drive/MyDrive/VNeseFood/'\n",
        "photos, labels=list (),list()\n",
        "for file in listdir(folder):\n",
        "  output=0.0\n",
        "  if file.startswith('banhcanh'):\n",
        "    output=1.0\n",
        "  if file.startswith('banhkhot'):\n",
        "    output=2.0\n",
        "  if file.startswith('banhmi'):\n",
        "    output=3.0\n",
        "  if file.startswith('banhxeo'):\n",
        "    output=4.0\n",
        "  if file.startswith('bokho'):\n",
        "    output=5.0   \n",
        "  if file.startswith('bunbo'):\n",
        "    output=6.0  \n",
        "  if file.startswith('che'):\n",
        "    output=7.0  \n",
        "  if file.startswith('comtam'):\n",
        "    output=8.0  \n",
        "  if file.startswith('hutieu'):\n",
        "    output=9.0  \n",
        "  if file.startswith('pho'):\n",
        "    output=10.0   \n",
        "  img =load_img(folder+ file,target_size=(30,40))\n",
        "  photo = img_to_array(img)\n",
        "  photos.append(photo)\n",
        "  labels.append(output)\n",
        "photos =asarray(photos)\n",
        "labels =asarray(labels)\n",
        "print(photos.shape,labels.shape)\n",
        "save('do_an_photos.npy',photos)\n",
        "save('do_an_labels.npy',labels)"
      ],
      "metadata": {
        "colab": {
          "base_uri": "https://localhost:8080/"
        },
        "id": "B3s7wgi7nfPQ",
        "outputId": "a011d76f-dfab-417a-9c3e-3d4f9ca450f9"
      },
      "execution_count": 2,
      "outputs": [
        {
          "output_type": "stream",
          "name": "stdout",
          "text": [
            "(300, 30, 40, 3) (300,)\n"
          ]
        }
      ]
    },
    {
      "cell_type": "code",
      "source": [
        "import numpy as np\n",
        "x_train = np.load('/content/do_an_photos.npy')\n",
        "y_train = np.load('/content/do_an_labels.npy')\n",
        "print(x_train.shape)\n",
        "print(y_train.shape)\n",
        "x=x_train\n",
        "y=y_train\n",
        "from keras.utils import to_categorical\n",
        "x_train = x_train.astype('float32')/255\n",
        "y_train = to_categorical(y_train,100)"
      ],
      "metadata": {
        "colab": {
          "base_uri": "https://localhost:8080/"
        },
        "id": "fcKHtxccoT3Y",
        "outputId": "27154fbc-5ce1-44b1-9479-73f66e2fb18b"
      },
      "execution_count": 3,
      "outputs": [
        {
          "output_type": "stream",
          "name": "stdout",
          "text": [
            "(300, 30, 40, 3)\n",
            "(300,)\n"
          ]
        }
      ]
    },
    {
      "cell_type": "code",
      "source": [
        "from keras.backend import flatten\n",
        "from keras.models import Sequential\n",
        "from keras.layers import Dense,Dropout,Flatten,Conv2D,MaxPooling2D,Normalization,LeakyReLU\n",
        "from keras.optimizers import Adam\n",
        "#32 lần\n",
        "model = Sequential()\n",
        "model.add(Conv2D(32,kernel_size = (3,3),activation = 'relu',input_shape=(30,40,3),padding='Same'))\n",
        "model.add(MaxPooling2D((2,2),padding='same'))\n",
        "model.add(Dropout(0.25))\n",
        "\n",
        "#64 lần\n",
        "model.add(Conv2D(64,(3,3),activation ='relu',padding ='same'))\n",
        "model.add(MaxPooling2D((2,2),padding='same'))\n",
        "model.add(Dropout(0.25))\n",
        "\n",
        "#128 lần\n",
        "model.add(Conv2D(128,(3,3),activation ='relu',padding ='same'))\n",
        "model.add(MaxPooling2D((2,2),padding='same'))\n",
        "model.add(Dropout(0.25))\n",
        "\n",
        "#256 lần\n",
        "model.add(Conv2D(256,(3,3),activation ='relu',padding ='same'))\n",
        "model.add(MaxPooling2D((2,2),padding='same'))\n",
        "model.add(Dropout(0.25))\n",
        "\n",
        "model.add(Flatten())\n",
        "model.add(Dense(256,activation='relu'))\n",
        "model.add(LeakyReLU(alpha=0.1))\n",
        "model.add(Dense(100,activation='softmax'))\n",
        "\n",
        "from keras.losses import categorical_crossentropy\n",
        "model.compile(loss='categorical_crossentropy',optimizer=Adam(),metrics=['accuracy'])\n",
        "model.summary()\n",
        "train = model.fit(x_train,y_train,epochs=100,batch_size=64,verbose=1)"
      ],
      "metadata": {
        "colab": {
          "base_uri": "https://localhost:8080/"
        },
        "id": "bACXEbA6oUUP",
        "outputId": "3ad0a01a-7b05-4814-e8e0-adba3de2144d"
      },
      "execution_count": 4,
      "outputs": [
        {
          "output_type": "stream",
          "name": "stdout",
          "text": [
            "Model: \"sequential\"\n",
            "_________________________________________________________________\n",
            " Layer (type)                Output Shape              Param #   \n",
            "=================================================================\n",
            " conv2d (Conv2D)             (None, 30, 40, 32)        896       \n",
            "                                                                 \n",
            " max_pooling2d (MaxPooling2D  (None, 15, 20, 32)       0         \n",
            " )                                                               \n",
            "                                                                 \n",
            " dropout (Dropout)           (None, 15, 20, 32)        0         \n",
            "                                                                 \n",
            " conv2d_1 (Conv2D)           (None, 15, 20, 64)        18496     \n",
            "                                                                 \n",
            " max_pooling2d_1 (MaxPooling  (None, 8, 10, 64)        0         \n",
            " 2D)                                                             \n",
            "                                                                 \n",
            " dropout_1 (Dropout)         (None, 8, 10, 64)         0         \n",
            "                                                                 \n",
            " conv2d_2 (Conv2D)           (None, 8, 10, 128)        73856     \n",
            "                                                                 \n",
            " max_pooling2d_2 (MaxPooling  (None, 4, 5, 128)        0         \n",
            " 2D)                                                             \n",
            "                                                                 \n",
            " dropout_2 (Dropout)         (None, 4, 5, 128)         0         \n",
            "                                                                 \n",
            " conv2d_3 (Conv2D)           (None, 4, 5, 256)         295168    \n",
            "                                                                 \n",
            " max_pooling2d_3 (MaxPooling  (None, 2, 3, 256)        0         \n",
            " 2D)                                                             \n",
            "                                                                 \n",
            " dropout_3 (Dropout)         (None, 2, 3, 256)         0         \n",
            "                                                                 \n",
            " flatten (Flatten)           (None, 1536)              0         \n",
            "                                                                 \n",
            " dense (Dense)               (None, 256)               393472    \n",
            "                                                                 \n",
            " leaky_re_lu (LeakyReLU)     (None, 256)               0         \n",
            "                                                                 \n",
            " dense_1 (Dense)             (None, 100)               25700     \n",
            "                                                                 \n",
            "=================================================================\n",
            "Total params: 807,588\n",
            "Trainable params: 807,588\n",
            "Non-trainable params: 0\n",
            "_________________________________________________________________\n",
            "Epoch 1/100\n",
            "5/5 [==============================] - 10s 63ms/step - loss: 3.5910 - accuracy: 0.0800\n",
            "Epoch 2/100\n",
            "5/5 [==============================] - 0s 7ms/step - loss: 2.6655 - accuracy: 0.0833\n",
            "Epoch 3/100\n",
            "5/5 [==============================] - 0s 7ms/step - loss: 2.4679 - accuracy: 0.0933\n",
            "Epoch 4/100\n",
            "5/5 [==============================] - 0s 7ms/step - loss: 2.3820 - accuracy: 0.1200\n",
            "Epoch 5/100\n",
            "5/5 [==============================] - 0s 7ms/step - loss: 2.3557 - accuracy: 0.1100\n",
            "Epoch 6/100\n",
            "5/5 [==============================] - 0s 7ms/step - loss: 2.3593 - accuracy: 0.0833\n",
            "Epoch 7/100\n",
            "5/5 [==============================] - 0s 8ms/step - loss: 2.3223 - accuracy: 0.1033\n",
            "Epoch 8/100\n",
            "5/5 [==============================] - 0s 9ms/step - loss: 2.3015 - accuracy: 0.1367\n",
            "Epoch 9/100\n",
            "5/5 [==============================] - 0s 7ms/step - loss: 2.2710 - accuracy: 0.1433\n",
            "Epoch 10/100\n",
            "5/5 [==============================] - 0s 7ms/step - loss: 2.2386 - accuracy: 0.1600\n",
            "Epoch 11/100\n",
            "5/5 [==============================] - 0s 9ms/step - loss: 2.1193 - accuracy: 0.1667\n",
            "Epoch 12/100\n",
            "5/5 [==============================] - 0s 7ms/step - loss: 2.0547 - accuracy: 0.2133\n",
            "Epoch 13/100\n",
            "5/5 [==============================] - 0s 8ms/step - loss: 1.9438 - accuracy: 0.2267\n",
            "Epoch 14/100\n",
            "5/5 [==============================] - 0s 7ms/step - loss: 1.8913 - accuracy: 0.2500\n",
            "Epoch 15/100\n",
            "5/5 [==============================] - 0s 7ms/step - loss: 1.8443 - accuracy: 0.2300\n",
            "Epoch 16/100\n",
            "5/5 [==============================] - 0s 7ms/step - loss: 1.8264 - accuracy: 0.2900\n",
            "Epoch 17/100\n",
            "5/5 [==============================] - 0s 8ms/step - loss: 1.8118 - accuracy: 0.2867\n",
            "Epoch 18/100\n",
            "5/5 [==============================] - 0s 7ms/step - loss: 1.7273 - accuracy: 0.3233\n",
            "Epoch 19/100\n",
            "5/5 [==============================] - 0s 7ms/step - loss: 1.7086 - accuracy: 0.3400\n",
            "Epoch 20/100\n",
            "5/5 [==============================] - 0s 7ms/step - loss: 1.7402 - accuracy: 0.3033\n",
            "Epoch 21/100\n",
            "5/5 [==============================] - 0s 7ms/step - loss: 1.7098 - accuracy: 0.3167\n",
            "Epoch 22/100\n",
            "5/5 [==============================] - 0s 8ms/step - loss: 1.6976 - accuracy: 0.3167\n",
            "Epoch 23/100\n",
            "5/5 [==============================] - 0s 7ms/step - loss: 1.6779 - accuracy: 0.3600\n",
            "Epoch 24/100\n",
            "5/5 [==============================] - 0s 7ms/step - loss: 1.6300 - accuracy: 0.3667\n",
            "Epoch 25/100\n",
            "5/5 [==============================] - 0s 7ms/step - loss: 1.5967 - accuracy: 0.4533\n",
            "Epoch 26/100\n",
            "5/5 [==============================] - 0s 9ms/step - loss: 1.5405 - accuracy: 0.3933\n",
            "Epoch 27/100\n",
            "5/5 [==============================] - 0s 7ms/step - loss: 1.5043 - accuracy: 0.4100\n",
            "Epoch 28/100\n",
            "5/5 [==============================] - 0s 8ms/step - loss: 1.5518 - accuracy: 0.4100\n",
            "Epoch 29/100\n",
            "5/5 [==============================] - 0s 7ms/step - loss: 1.5173 - accuracy: 0.3833\n",
            "Epoch 30/100\n",
            "5/5 [==============================] - 0s 7ms/step - loss: 1.4154 - accuracy: 0.4800\n",
            "Epoch 31/100\n",
            "5/5 [==============================] - 0s 7ms/step - loss: 1.4178 - accuracy: 0.4600\n",
            "Epoch 32/100\n",
            "5/5 [==============================] - 0s 7ms/step - loss: 1.4291 - accuracy: 0.4467\n",
            "Epoch 33/100\n",
            "5/5 [==============================] - 0s 8ms/step - loss: 1.3815 - accuracy: 0.4833\n",
            "Epoch 34/100\n",
            "5/5 [==============================] - 0s 9ms/step - loss: 1.2227 - accuracy: 0.5667\n",
            "Epoch 35/100\n",
            "5/5 [==============================] - 0s 7ms/step - loss: 1.2191 - accuracy: 0.5633\n",
            "Epoch 36/100\n",
            "5/5 [==============================] - 0s 8ms/step - loss: 1.2103 - accuracy: 0.5433\n",
            "Epoch 37/100\n",
            "5/5 [==============================] - 0s 7ms/step - loss: 1.1166 - accuracy: 0.6000\n",
            "Epoch 38/100\n",
            "5/5 [==============================] - 0s 8ms/step - loss: 1.1536 - accuracy: 0.5967\n",
            "Epoch 39/100\n",
            "5/5 [==============================] - 0s 7ms/step - loss: 1.0201 - accuracy: 0.6500\n",
            "Epoch 40/100\n",
            "5/5 [==============================] - 0s 8ms/step - loss: 1.0046 - accuracy: 0.6600\n",
            "Epoch 41/100\n",
            "5/5 [==============================] - 0s 7ms/step - loss: 0.8613 - accuracy: 0.7100\n",
            "Epoch 42/100\n",
            "5/5 [==============================] - 0s 7ms/step - loss: 0.9235 - accuracy: 0.6733\n",
            "Epoch 43/100\n",
            "5/5 [==============================] - 0s 10ms/step - loss: 0.8639 - accuracy: 0.7133\n",
            "Epoch 44/100\n",
            "5/5 [==============================] - 0s 8ms/step - loss: 0.8220 - accuracy: 0.7067\n",
            "Epoch 45/100\n",
            "5/5 [==============================] - 0s 7ms/step - loss: 0.7948 - accuracy: 0.7200\n",
            "Epoch 46/100\n",
            "5/5 [==============================] - 0s 7ms/step - loss: 0.7287 - accuracy: 0.7600\n",
            "Epoch 47/100\n",
            "5/5 [==============================] - 0s 7ms/step - loss: 0.6480 - accuracy: 0.7800\n",
            "Epoch 48/100\n",
            "5/5 [==============================] - 0s 8ms/step - loss: 0.6004 - accuracy: 0.7800\n",
            "Epoch 49/100\n",
            "5/5 [==============================] - 0s 8ms/step - loss: 0.6282 - accuracy: 0.7667\n",
            "Epoch 50/100\n",
            "5/5 [==============================] - 0s 8ms/step - loss: 0.6099 - accuracy: 0.7933\n",
            "Epoch 51/100\n",
            "5/5 [==============================] - 0s 9ms/step - loss: 0.5282 - accuracy: 0.8133\n",
            "Epoch 52/100\n",
            "5/5 [==============================] - 0s 8ms/step - loss: 0.4386 - accuracy: 0.8400\n",
            "Epoch 53/100\n",
            "5/5 [==============================] - 0s 7ms/step - loss: 0.4950 - accuracy: 0.7933\n",
            "Epoch 54/100\n",
            "5/5 [==============================] - 0s 8ms/step - loss: 0.4171 - accuracy: 0.8333\n",
            "Epoch 55/100\n",
            "5/5 [==============================] - 0s 8ms/step - loss: 0.3639 - accuracy: 0.8733\n",
            "Epoch 56/100\n",
            "5/5 [==============================] - 0s 7ms/step - loss: 0.4059 - accuracy: 0.8467\n",
            "Epoch 57/100\n",
            "5/5 [==============================] - 0s 8ms/step - loss: 0.3059 - accuracy: 0.9100\n",
            "Epoch 58/100\n",
            "5/5 [==============================] - 0s 7ms/step - loss: 0.3335 - accuracy: 0.8900\n",
            "Epoch 59/100\n",
            "5/5 [==============================] - 0s 8ms/step - loss: 0.3843 - accuracy: 0.8800\n",
            "Epoch 60/100\n",
            "5/5 [==============================] - 0s 7ms/step - loss: 0.3575 - accuracy: 0.8833\n",
            "Epoch 61/100\n",
            "5/5 [==============================] - 0s 8ms/step - loss: 0.2871 - accuracy: 0.9000\n",
            "Epoch 62/100\n",
            "5/5 [==============================] - 0s 8ms/step - loss: 0.3113 - accuracy: 0.8967\n",
            "Epoch 63/100\n",
            "5/5 [==============================] - 0s 8ms/step - loss: 0.2830 - accuracy: 0.8967\n",
            "Epoch 64/100\n",
            "5/5 [==============================] - 0s 7ms/step - loss: 0.2795 - accuracy: 0.9100\n",
            "Epoch 65/100\n",
            "5/5 [==============================] - 0s 7ms/step - loss: 0.2424 - accuracy: 0.9167\n",
            "Epoch 66/100\n",
            "5/5 [==============================] - 0s 9ms/step - loss: 0.1906 - accuracy: 0.9333\n",
            "Epoch 67/100\n",
            "5/5 [==============================] - 0s 7ms/step - loss: 0.1525 - accuracy: 0.9533\n",
            "Epoch 68/100\n",
            "5/5 [==============================] - 0s 8ms/step - loss: 0.1569 - accuracy: 0.9433\n",
            "Epoch 69/100\n",
            "5/5 [==============================] - 0s 8ms/step - loss: 0.1266 - accuracy: 0.9700\n",
            "Epoch 70/100\n",
            "5/5 [==============================] - 0s 10ms/step - loss: 0.1256 - accuracy: 0.9767\n",
            "Epoch 71/100\n",
            "5/5 [==============================] - 0s 8ms/step - loss: 0.1039 - accuracy: 0.9700\n",
            "Epoch 72/100\n",
            "5/5 [==============================] - 0s 8ms/step - loss: 0.1288 - accuracy: 0.9600\n",
            "Epoch 73/100\n",
            "5/5 [==============================] - 0s 7ms/step - loss: 0.0953 - accuracy: 0.9833\n",
            "Epoch 74/100\n",
            "5/5 [==============================] - 0s 8ms/step - loss: 0.0964 - accuracy: 0.9733\n",
            "Epoch 75/100\n",
            "5/5 [==============================] - 0s 8ms/step - loss: 0.0731 - accuracy: 0.9867\n",
            "Epoch 76/100\n",
            "5/5 [==============================] - 0s 8ms/step - loss: 0.0520 - accuracy: 0.9967\n",
            "Epoch 77/100\n",
            "5/5 [==============================] - 0s 8ms/step - loss: 0.0464 - accuracy: 0.9933\n",
            "Epoch 78/100\n",
            "5/5 [==============================] - 0s 7ms/step - loss: 0.0728 - accuracy: 0.9767\n",
            "Epoch 79/100\n",
            "5/5 [==============================] - 0s 10ms/step - loss: 0.0490 - accuracy: 0.9867\n",
            "Epoch 80/100\n",
            "5/5 [==============================] - 0s 8ms/step - loss: 0.0494 - accuracy: 0.9900\n",
            "Epoch 81/100\n",
            "5/5 [==============================] - 0s 8ms/step - loss: 0.1020 - accuracy: 0.9667\n",
            "Epoch 82/100\n",
            "5/5 [==============================] - 0s 11ms/step - loss: 0.0742 - accuracy: 0.9800\n",
            "Epoch 83/100\n",
            "5/5 [==============================] - 0s 8ms/step - loss: 0.0680 - accuracy: 0.9767\n",
            "Epoch 84/100\n",
            "5/5 [==============================] - 0s 8ms/step - loss: 0.0584 - accuracy: 0.9833\n",
            "Epoch 85/100\n",
            "5/5 [==============================] - 0s 8ms/step - loss: 0.1043 - accuracy: 0.9667\n",
            "Epoch 86/100\n",
            "5/5 [==============================] - 0s 8ms/step - loss: 0.0779 - accuracy: 0.9600\n",
            "Epoch 87/100\n",
            "5/5 [==============================] - 0s 8ms/step - loss: 0.0814 - accuracy: 0.9767\n",
            "Epoch 88/100\n",
            "5/5 [==============================] - 0s 8ms/step - loss: 0.0955 - accuracy: 0.9600\n",
            "Epoch 89/100\n",
            "5/5 [==============================] - 0s 7ms/step - loss: 0.0694 - accuracy: 0.9800\n",
            "Epoch 90/100\n",
            "5/5 [==============================] - 0s 8ms/step - loss: 0.0597 - accuracy: 0.9833\n",
            "Epoch 91/100\n",
            "5/5 [==============================] - 0s 8ms/step - loss: 0.0708 - accuracy: 0.9800\n",
            "Epoch 92/100\n",
            "5/5 [==============================] - 0s 8ms/step - loss: 0.0627 - accuracy: 0.9833\n",
            "Epoch 93/100\n",
            "5/5 [==============================] - 0s 8ms/step - loss: 0.1003 - accuracy: 0.9533\n",
            "Epoch 94/100\n",
            "5/5 [==============================] - 0s 7ms/step - loss: 0.1009 - accuracy: 0.9700\n",
            "Epoch 95/100\n",
            "5/5 [==============================] - 0s 9ms/step - loss: 0.0409 - accuracy: 0.9867\n",
            "Epoch 96/100\n",
            "5/5 [==============================] - 0s 8ms/step - loss: 0.0427 - accuracy: 0.9867\n",
            "Epoch 97/100\n",
            "5/5 [==============================] - 0s 9ms/step - loss: 0.0667 - accuracy: 0.9767\n",
            "Epoch 98/100\n",
            "5/5 [==============================] - 0s 8ms/step - loss: 0.0595 - accuracy: 0.9833\n",
            "Epoch 99/100\n",
            "5/5 [==============================] - 0s 8ms/step - loss: 0.0525 - accuracy: 0.9900\n",
            "Epoch 100/100\n",
            "5/5 [==============================] - 0s 7ms/step - loss: 0.0481 - accuracy: 0.9867\n"
          ]
        }
      ]
    },
    {
      "cell_type": "code",
      "source": [
        "model.save('VNFood.h5')"
      ],
      "metadata": {
        "id": "dlCiyg19oV2a"
      },
      "execution_count": 5,
      "outputs": []
    },
    {
      "cell_type": "code",
      "source": [
        "model_1=load_model('VNFood.h5')"
      ],
      "metadata": {
        "id": "DVjqx_gSoYCY"
      },
      "execution_count": 6,
      "outputs": []
    },
    {
      "cell_type": "code",
      "source": [
        "import matplotlib.pyplot as plt\n",
        "from keras.utils import load_img\n",
        "from keras.utils.image_utils import img_to_array\n",
        "import numpy as np\n",
        "vat = {1: 'Banh canh',2:'Banh khot', 3:'Banh mi', 4:'Banh xeo',5:'Bo kho',6:'Bun bo',7:'Che',8:'Com tam',9:'Hu tieu',10:'Pho'}\n",
        "img = load_img(\"/content/drive/MyDrive/VNeseFood/banhcanh (10).jpg\",target_size=(30,40))\n",
        "plt.imshow(img)\n",
        "img = img_to_array(img)\n",
        "img=img.reshape(1,30,40,3)\n",
        "img = img.astype('float32')\n",
        "img =img/255\n",
        "result  = np.argmax(model.predict(img),axis=1)\n",
        "vat[result[0]]"
      ],
      "metadata": {
        "colab": {
          "base_uri": "https://localhost:8080/",
          "height": 466
        },
        "id": "JfriSErtoaEy",
        "outputId": "d303a57e-b4bf-469e-f554-cfdd5c964e19"
      },
      "execution_count": 7,
      "outputs": [
        {
          "output_type": "stream",
          "name": "stdout",
          "text": [
            "1/1 [==============================] - 0s 275ms/step\n"
          ]
        },
        {
          "output_type": "execute_result",
          "data": {
            "text/plain": [
              "'Banh canh'"
            ],
            "application/vnd.google.colaboratory.intrinsic+json": {
              "type": "string"
            }
          },
          "metadata": {},
          "execution_count": 7
        },
        {
          "output_type": "display_data",
          "data": {
            "text/plain": [
              "<Figure size 640x480 with 1 Axes>"
            ],
            "image/png": "[encoded data removed]"
          },
          "metadata": {}
        }
      ]
    }
  ]
}